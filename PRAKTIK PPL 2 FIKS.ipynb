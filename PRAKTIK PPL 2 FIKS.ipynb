{
 "cells": [
  {
   "cell_type": "code",
   "execution_count": 4,
   "id": "7beda20f",
   "metadata": {},
   "outputs": [
    {
     "name": "stdout",
     "output_type": "stream",
     "text": [
      "[-1, -2, -3, -4]\n"
     ]
    }
   ],
   "source": [
    "A=[-1,-2,-3,-4]\n",
    "print(A)"
   ]
  },
  {
   "cell_type": "code",
   "execution_count": 6,
   "id": "77537c86",
   "metadata": {},
   "outputs": [
    {
     "name": "stdout",
     "output_type": "stream",
     "text": [
      "[1.5, 2.5, 2.4, 'HAI']\n"
     ]
    }
   ],
   "source": [
    "B=[1.5,2.5,2.4,'HAI']\n",
    "print(B)"
   ]
  },
  {
   "cell_type": "code",
   "execution_count": 7,
   "id": "d3e204a2",
   "metadata": {},
   "outputs": [
    {
     "name": "stdout",
     "output_type": "stream",
     "text": [
      "programming\n"
     ]
    }
   ],
   "source": [
    "my_list=['i','love','python','programming','so much']\n",
    "print(my_list[3])"
   ]
  },
  {
   "cell_type": "code",
   "execution_count": 8,
   "id": "68e1ce05",
   "metadata": {},
   "outputs": [
    {
     "name": "stdout",
     "output_type": "stream",
     "text": [
      "python\n"
     ]
    }
   ],
   "source": [
    "my_list=['i','love','python','programming','so much']\n",
    "print(my_list[2])"
   ]
  },
  {
   "cell_type": "code",
   "execution_count": 9,
   "id": "e1c4f467",
   "metadata": {},
   "outputs": [
    {
     "name": "stdout",
     "output_type": "stream",
     "text": [
      "love\n"
     ]
    }
   ],
   "source": [
    "my_list=['i','love','python','programming','so much']\n",
    "print(my_list[1])"
   ]
  },
  {
   "cell_type": "code",
   "execution_count": 10,
   "id": "c3237b4f",
   "metadata": {},
   "outputs": [
    {
     "name": "stdout",
     "output_type": "stream",
     "text": [
      "i\n"
     ]
    }
   ],
   "source": [
    "my_list=['i','love','python','programming','so much']\n",
    "print(my_list[0])"
   ]
  },
  {
   "cell_type": "code",
   "execution_count": 11,
   "id": "167097ae",
   "metadata": {},
   "outputs": [
    {
     "ename": "IndexError",
     "evalue": "list index out of range",
     "output_type": "error",
     "traceback": [
      "\u001b[1;31m---------------------------------------------------------------------------\u001b[0m",
      "\u001b[1;31mIndexError\u001b[0m                                Traceback (most recent call last)",
      "\u001b[1;32m~\\AppData\\Local\\Temp\\ipykernel_12812\\422522273.py\u001b[0m in \u001b[0;36m<module>\u001b[1;34m\u001b[0m\n\u001b[0;32m      1\u001b[0m \u001b[0mmy_list\u001b[0m\u001b[1;33m=\u001b[0m\u001b[1;33m[\u001b[0m\u001b[1;34m'i'\u001b[0m\u001b[1;33m,\u001b[0m\u001b[1;34m'love'\u001b[0m\u001b[1;33m,\u001b[0m\u001b[1;34m'python'\u001b[0m\u001b[1;33m,\u001b[0m\u001b[1;34m'programming'\u001b[0m\u001b[1;33m,\u001b[0m\u001b[1;34m'so much'\u001b[0m\u001b[1;33m]\u001b[0m\u001b[1;33m\u001b[0m\u001b[1;33m\u001b[0m\u001b[0m\n\u001b[1;32m----> 2\u001b[1;33m \u001b[0mprint\u001b[0m\u001b[1;33m(\u001b[0m\u001b[0mmy_list\u001b[0m\u001b[1;33m[\u001b[0m\u001b[1;36m5\u001b[0m\u001b[1;33m]\u001b[0m\u001b[1;33m)\u001b[0m\u001b[1;33m\u001b[0m\u001b[1;33m\u001b[0m\u001b[0m\n\u001b[0m",
      "\u001b[1;31mIndexError\u001b[0m: list index out of range"
     ]
    }
   ],
   "source": [
    "my_list=['i','love','python','programming','so much']\n",
    "print(my_list[5])"
   ]
  },
  {
   "cell_type": "code",
   "execution_count": 12,
   "id": "e38d70f8",
   "metadata": {},
   "outputs": [
    {
     "ename": "IndexError",
     "evalue": "list index out of range",
     "output_type": "error",
     "traceback": [
      "\u001b[1;31m---------------------------------------------------------------------------\u001b[0m",
      "\u001b[1;31mIndexError\u001b[0m                                Traceback (most recent call last)",
      "\u001b[1;32m~\\AppData\\Local\\Temp\\ipykernel_12812\\2187476873.py\u001b[0m in \u001b[0;36m<module>\u001b[1;34m\u001b[0m\n\u001b[0;32m      1\u001b[0m \u001b[0mmy_list\u001b[0m\u001b[1;33m=\u001b[0m\u001b[1;33m[\u001b[0m\u001b[1;34m'i'\u001b[0m\u001b[1;33m,\u001b[0m\u001b[1;34m'love'\u001b[0m\u001b[1;33m,\u001b[0m\u001b[1;34m'python'\u001b[0m\u001b[1;33m,\u001b[0m\u001b[1;34m'programming'\u001b[0m\u001b[1;33m,\u001b[0m\u001b[1;34m'so much'\u001b[0m\u001b[1;33m]\u001b[0m\u001b[1;33m\u001b[0m\u001b[1;33m\u001b[0m\u001b[0m\n\u001b[1;32m----> 2\u001b[1;33m \u001b[0mprint\u001b[0m\u001b[1;33m(\u001b[0m\u001b[0mmy_list\u001b[0m\u001b[1;33m[\u001b[0m\u001b[1;36m11\u001b[0m\u001b[1;33m]\u001b[0m\u001b[1;33m)\u001b[0m\u001b[1;33m\u001b[0m\u001b[1;33m\u001b[0m\u001b[0m\n\u001b[0m",
      "\u001b[1;31mIndexError\u001b[0m: list index out of range"
     ]
    }
   ],
   "source": [
    "my_list=['i','love','python','programming','so much']\n",
    "print(my_list[11])"
   ]
  },
  {
   "cell_type": "code",
   "execution_count": 19,
   "id": "1a3b19d8",
   "metadata": {},
   "outputs": [
    {
     "name": "stdout",
     "output_type": "stream",
     "text": [
      "L3=  [1, 2, 3, 4, 5, 6]\n",
      "L1=  [1, 2, 3, 4, 5, 6]\n",
      "L1=  [1, 2, 3, 4, 5, 6, [4, 5, 6]]\n",
      "L4=  ['Hallo', 'Phyton', 'mathematika', 'UNS']\n",
      "L1=  [1, 2, 3, 4, 5, 6, [4, 5, 6], 'Hallo', 'Phyton', 'mathematika', 'UNS']\n"
     ]
    }
   ],
   "source": [
    "L1=[1,2,3]\n",
    "L2=[4,5,6]\n",
    "L3=L1+L2\n",
    "print('L3= ',L3)\n",
    "L1.extend(L2)\n",
    "print('L1= ',L1)\n",
    "L1.append(L2)\n",
    "print('L1= ',L1)\n",
    "L4=['Hallo','Phyton','mathematika','UNS']\n",
    "print('L4= ',L4)\n",
    "L1.extend(L4)\n",
    "print('L1= ',L1)"
   ]
  },
  {
   "cell_type": "code",
   "execution_count": 34,
   "id": "9056f31b",
   "metadata": {},
   "outputs": [
    {
     "name": "stdout",
     "output_type": "stream",
     "text": [
      "cari: 90\n",
      "Nilai= 90 Tidak Ditemukan\n"
     ]
    }
   ],
   "source": [
    "#Linear Search\n",
    "#cari = 39\n",
    "cari = int(input('cari: '))\n",
    "\n",
    "L = [67,13,71,45,39,53]\n",
    "awal = 0\n",
    "ulang = 0\n",
    "akhir = len(L)-1\n",
    "ketemu = False\n",
    "\n",
    "while awal <= akhir and not ketemu:\n",
    "    ulang+=1\n",
    "    if L[awal] == cari:\n",
    "        ketemu = True\n",
    "    else:\n",
    "        awal = awal + 1\n",
    "        \n",
    "if ketemu:\n",
    "    print('Nilai=', cari,'Berhasil Ditemukan')\n",
    "else:\n",
    "    print('Nilai=', cari,'Tidak Ditemukan')"
   ]
  },
  {
   "cell_type": "code",
   "execution_count": 10,
   "id": "870e9775",
   "metadata": {},
   "outputs": [
    {
     "name": "stdout",
     "output_type": "stream",
     "text": [
      "cari= 45\n",
      "[13, 28, 39, 45, 53, 67, 71]\n",
      "Angka dicari=  45 ditemukan\n"
     ]
    }
   ],
   "source": [
    "#Binary Search\n",
    "cari=int(input(\"cari= \"))\n",
    "def binary_search(angka,L):\n",
    "    L.sort()\n",
    "    print(L)\n",
    "    langkah = 0\n",
    "    ketemu = False\n",
    "    awal = 0\n",
    "    akhir = len(L)-1\n",
    "    while awal <= akhir and not ketemu:\n",
    "        tengah = (awal+akhir)//2\n",
    "        if L[tengah] == angka:\n",
    "            ketemu = True\n",
    "        elif angka > L[tengah]:\n",
    "            awal = tengah+1\n",
    "        else:\n",
    "            akhir = tengah-1\n",
    "        langkah+=1\n",
    "    if ketemu:\n",
    "        print(\"Angka dicari= \", angka, \"ditemukan\")\n",
    "    else:\n",
    "        print(\"Angka yg dicari tidak ditemukan!\")\n",
    "binary_search (cari,[67, 13, 71, 39, 45, 28, 53])"
   ]
  },
  {
   "cell_type": "code",
   "execution_count": 26,
   "id": "3cd8f720",
   "metadata": {},
   "outputs": [
    {
     "name": "stdout",
     "output_type": "stream",
     "text": [
      "Panjang List= 12\n",
      "5\n",
      "4\n",
      "20\n",
      "17\n",
      "7\n",
      "10\n",
      "24\n",
      "31\n",
      "2\n",
      "1\n",
      "6\n",
      "9\n",
      "Sebelum di insertion sort =  [5, 4, 20, 17, 7, 10, 24, 31, 2, 1, 6, 9]\n",
      "Setelah di insertion sort =  [1, 2, 4, 5, 6, 7, 9, 10, 17, 20, 24, 31]\n"
     ]
    }
   ],
   "source": [
    "#Sorting\n",
    "#L=[67, 13, 71, 39, 45, 28, 53]\n",
    "L = []\n",
    "M = int(input(\"Panjang List= \"))\n",
    "for i in range (0, M):\n",
    "    x = int(input())\n",
    "    L.append(x)\n",
    "def insertionSort (L):\n",
    "    for i in range (1, len(L)):\n",
    "        Ka = L[i]\n",
    "        Ki = i-1\n",
    "        while Ki >=0 and L[Ki] > Ka:\n",
    "            L[Ki+1] = L[Ki]\n",
    "            Ki -= 1\n",
    "            L[Ki + 1] = Ka\n",
    "print (\"Sebelum di insertion sort = \", L)\n",
    "insertionSort(L)\n",
    "print (\"Setelah di insertion sort = \", L)"
   ]
  },
  {
   "cell_type": "code",
   "execution_count": 29,
   "id": "c69d67c8",
   "metadata": {},
   "outputs": [
    {
     "name": "stdout",
     "output_type": "stream",
     "text": [
      "Sebelum Bubble Sort\n",
      "[67, 13, 71, 39, 45]\n",
      "Setelah Bubble Sort\n",
      "proses ke 1   [13, 67, 71, 39, 45]\n",
      "proses ke 2   [13, 67, 71, 39, 45]\n",
      "proses ke 3   [13, 67, 39, 71, 45]\n",
      "proses ke 4   [13, 67, 39, 45, 71]\n",
      "iterasi ke  1   [13, 67, 39, 45, 71]\n",
      "proses ke 1   [13, 67, 39, 45, 71]\n",
      "proses ke 2   [13, 39, 67, 45, 71]\n",
      "proses ke 3   [13, 39, 45, 67, 71]\n",
      "iterasi ke  2   [13, 39, 45, 67, 71]\n",
      "proses ke 1   [13, 39, 45, 67, 71]\n",
      "proses ke 2   [13, 39, 45, 67, 71]\n",
      "iterasi ke  3   [13, 39, 45, 67, 71]\n",
      "Hasil akhir = [13, 39, 45, 67, 71]\n"
     ]
    }
   ],
   "source": [
    "#Buble Sort\n",
    "def tukar(L, i, j):\n",
    "    L[i], L[j]=L[j], L[i]\n",
    "    \n",
    "def bubble1(L):\n",
    "    ubah = True\n",
    "    k=1\n",
    "    pj = len(L)\n",
    "    while pj > 1 and ubah:\n",
    "        ubah = False\n",
    "        j = 1\n",
    "        while j < pj:\n",
    "            if L[j] < L[j-1]:\n",
    "                ubah = True\n",
    "                tukar(L, j, j-1)\n",
    "                print('proses ke',j,' ',L)\n",
    "            else:\n",
    "                print('proses ke',j,' ',L)\n",
    "            j += 1\n",
    "        print('iterasi ke ',k,' ',L)\n",
    "        k += 1\n",
    "        if not ubah:\n",
    "            print(\"Hasil akhir = %s\" %str(L))\n",
    "        pj -= 1\n",
    "        \n",
    "print(\"Sebelum Bubble Sort\")\n",
    "L=[67, 13, 71, 39, 45]\n",
    "print(L)\n",
    "print(\"Setelah Bubble Sort\")\n",
    "bubble1 (L)"
   ]
  },
  {
   "cell_type": "code",
   "execution_count": 2,
   "id": "166bf0da",
   "metadata": {},
   "outputs": [
    {
     "name": "stdout",
     "output_type": "stream",
     "text": [
      "0\n",
      "1\n",
      "2\n"
     ]
    }
   ],
   "source": [
    "for i in range (0,3):\n",
    "    print(i)"
   ]
  },
  {
   "cell_type": "code",
   "execution_count": 6,
   "id": "586ad873",
   "metadata": {},
   "outputs": [
    {
     "name": "stdout",
     "output_type": "stream",
     "text": [
      "M= 4\n",
      "18\n",
      "45\n",
      "20\n",
      "1\n",
      "sebelum diurutkan: [18, 45, 20, 1]\n",
      "setelah diurutkan:  [1, 18, 20, 45]\n"
     ]
    }
   ],
   "source": [
    "#L=[67, 13, 71, 39, 45, 53]\n",
    "L = []\n",
    "M = int(input(\"M= \"))\n",
    "for i in range (0, M):\n",
    "    x = int(input())\n",
    "    L.append(x)\n",
    "def selectionSort (L):\n",
    "    for i in range (len(L)-1, 0, -1):\n",
    "        max =0\n",
    "        for j in range (1, i+1):\n",
    "            maxt=L[max]\n",
    "            if maxt < L[j]:\n",
    "                max=j\n",
    "        L[max],L[i] = L[i], L[max]\n",
    "        \n",
    "print('sebelum diurutkan:', L)\n",
    "selectionSort (L)\n",
    "print('setelah diurutkan: ', L)"
   ]
  },
  {
   "cell_type": "code",
   "execution_count": 13,
   "id": "1c924e72",
   "metadata": {},
   "outputs": [
    {
     "name": "stdout",
     "output_type": "stream",
     "text": [
      "sebelum diurutkan:  [67, 13, 71, 45, 39]\n",
      "setelah diurutkan:  [13, 39, 45, 67, 71]\n"
     ]
    }
   ],
   "source": [
    "#quick sort\n",
    "def QuickSort(L, awal, akhir):\n",
    "    if awal < akhir:\n",
    "        p_index=partition (L, awal, akhir)\n",
    "        QuickSort (L, awal,p_index-1)\n",
    "        QuickSort (L, p_index+1, akhir)\n",
    "        \n",
    "def partition (L, awal, akhir) :\n",
    "    pivot = L[akhir]\n",
    "    p_index = awal\n",
    "    for i in range(awal,akhir):\n",
    "        if (L[i] <= pivot):\n",
    "            L[i], L[p_index]=L[p_index],L[i]\n",
    "            p_index +=1\n",
    "    L[p_index], L[akhir] = L[akhir], L[p_index]\n",
    "    return p_index\n",
    "\n",
    "L = [67, 13, 71, 45, 39]\n",
    "print(\"sebelum diurutkan: \", L)\n",
    "QuickSort (L, 0, len(L)-1)\n",
    "print(\"setelah diurutkan: \", L)"
   ]
  },
  {
   "cell_type": "code",
   "execution_count": 15,
   "id": "7620c080",
   "metadata": {},
   "outputs": [
    {
     "name": "stdout",
     "output_type": "stream",
     "text": [
      "M= 6\n",
      "4\n",
      "7\n",
      "10\n",
      "67\n",
      "56\n",
      "48\n",
      "sebelum diurutkan:  [4, 7, 10, 67, 56, 48]\n",
      "setelah diurutkan:  [4, 7, 10, 48, 56, 67]\n"
     ]
    }
   ],
   "source": [
    "#Quick Sort\n",
    "L = []\n",
    "M = int(input(\"M= \"))\n",
    "for i in range (0, M):\n",
    "    x = int(input())\n",
    "    L.append(x)\n",
    "def QuickSort(L, awal, akhir):\n",
    "    if awal < akhir:\n",
    "        p_index=partition (L, awal, akhir)\n",
    "        QuickSort (L, awal,p_index-1)\n",
    "        QuickSort (L, p_index+1, akhir)\n",
    "        \n",
    "def partition (L, awal, akhir) :\n",
    "    pivot = L[akhir]\n",
    "    p_index = awal\n",
    "    for i in range(awal,akhir):\n",
    "        if (L[i] <= pivot):\n",
    "            L[i], L[p_index]=L[p_index],L[i]\n",
    "            p_index +=1\n",
    "    L[p_index], L[akhir] = L[akhir], L[p_index]\n",
    "    return p_index\n",
    "\n",
    "#L = [67, 13, 71, 45, 39]\n",
    "print(\"sebelum diurutkan: \", L)\n",
    "QuickSort (L, 0, len(L)-1)\n",
    "print(\"setelah diurutkan: \", L)"
   ]
  },
  {
   "cell_type": "code",
   "execution_count": 2,
   "id": "603b1c54",
   "metadata": {},
   "outputs": [
    {
     "name": "stdout",
     "output_type": "stream",
     "text": [
      "1\n"
     ]
    }
   ],
   "source": []
  },
  {
   "cell_type": "code",
   "execution_count": 29,
   "id": "341c2e2d",
   "metadata": {},
   "outputs": [
    {
     "name": "stdout",
     "output_type": "stream",
     "text": [
      "n= 5\n",
      "5 !=  120\n"
     ]
    }
   ],
   "source": [
    "#fungsi rekursif\n",
    "def factorial (n):\n",
    "    if n== 0 or n==1:\n",
    "        return 1\n",
    "    else:\n",
    "        return(n*factorial(n-1))\n",
    "#n=4\n",
    "n = int(input(\"n= \"))\n",
    "print(n,'!= ', factorial(n))"
   ]
  },
  {
   "cell_type": "code",
   "execution_count": 31,
   "id": "f9488460",
   "metadata": {},
   "outputs": [
    {
     "name": "stdout",
     "output_type": "stream",
     "text": [
      "n= 4\n",
      "1\n",
      "2\n",
      "3\n",
      "4\n",
      "4 !=  24\n"
     ]
    }
   ],
   "source": [
    "def factorial (n):\n",
    "    if n== 0 or n==1:\n",
    "        return 1\n",
    "    else:\n",
    "        return(n*factorial(n-1))\n",
    "#n=4\n",
    "n = int(input(\"n= \"))\n",
    "for i in range (1,n+1) :\n",
    "    print (i)\n",
    "print(n,'!= ', factorial(n))"
   ]
  },
  {
   "cell_type": "code",
   "execution_count": 77,
   "id": "4d7289a6",
   "metadata": {},
   "outputs": [
    {
     "name": "stdout",
     "output_type": "stream",
     "text": [
      "n= 4\n",
      "Suku ke- 1 deret fibo adalah 1\n",
      "Suku ke- 2 deret fibo adalah 1\n",
      "Suku ke- 3 deret fibo adalah 2\n",
      "Suku ke- 4 deret fibo adalah 3\n"
     ]
    }
   ],
   "source": [
    "def fibo(n):\n",
    "    if n==1 or n==2:\n",
    "        return 1\n",
    "    else:\n",
    "        return(fibo(n-1)+fibo(n-2))\n",
    "\n",
    "n = int(input(\"n= \"))\n",
    "for i in range (1,n+1) :\n",
    "    print ('Suku ke-',i,'deret fibo adalah',fibo(i))"
   ]
  },
  {
   "cell_type": "code",
   "execution_count": 79,
   "id": "c22e1717",
   "metadata": {},
   "outputs": [
    {
     "data": {
      "image/png": "[encoded data removed]",
      "text/plain": [
       "<Figure size 640x480 with 1 Axes>"
      ]
     },
     "metadata": {},
     "output_type": "display_data"
    }
   ],
   "source": [
    "import matplotlib.pyplot as plt\n",
    "plt.plot([2, 4, 6, 8, 10, 12, 14, 16],[54, 67, 98, 78, 43, 80, 101, 87])\n",
    "plt.xlabel('x')\n",
    "plt.ylabel('y')\n",
    "plt.title('Judul')\n",
    "plt.grid(True, which='both')\n",
    "plt.show()"
   ]
  },
  {
   "cell_type": "code",
   "execution_count": 81,
   "id": "cc21e77f",
   "metadata": {},
   "outputs": [
    {
     "data": {
      "image/png": "[encoded data removed]",
      "text/plain": [
       "<Figure size 640x480 with 1 Axes>"
      ]
     },
     "metadata": {},
     "output_type": "display_data"
    }
   ],
   "source": [
    "import pylab\n",
    "pylab.figure(100)\n",
    "plt.plot([2, 4, 6, 8, 10, 12, 14, 16],[54, 67, 98, 78, 43, 80, 101, 87])\n",
    "plt.xlabel('x')\n",
    "plt.ylabel('y')\n",
    "plt.title('Judul')\n",
    "plt.grid(True, which='both')\n",
    "plt.show()"
   ]
  },
  {
   "cell_type": "code",
   "execution_count": 85,
   "id": "480b8b1e",
   "metadata": {},
   "outputs": [
    {
     "data": {
      "image/png": "[encoded data removed]",
      "text/plain": [
       "<Figure size 640x480 with 1 Axes>"
      ]
     },
     "metadata": {},
     "output_type": "display_data"
    }
   ],
   "source": [
    "import pylab\n",
    "pylab.figure(100)\n",
    "x=[2,4,6,8,10,12,14,16]\n",
    "y=[54,67,98,78,43,80,101,87]\n",
    "plt.scatter(x,y)\n",
    "plt.xlabel('x')\n",
    "plt.ylabel('y')\n",
    "plt.show()"
   ]
  },
  {
   "cell_type": "code",
   "execution_count": 94,
   "id": "96a0e95e",
   "metadata": {
    "scrolled": true
   },
   "outputs": [
    {
     "data": {
      "image/png": "[encoded data removed]",
      "text/plain": [
       "<Figure size 640x480 with 1 Axes>"
      ]
     },
     "metadata": {},
     "output_type": "display_data"
    }
   ],
   "source": [
    "#Histogram\n",
    "import pylab\n",
    "x=[68,70,85,89,70,74,84,63,85,86,78,65,75,85,85,70]\n",
    "num_bins=20\n",
    "n, bins, patches = plt.hist(x, num_bins, facecolor ='orange')\n",
    "plt.xlabel('x')\n",
    "plt.ylabel('y')\n",
    "plt.title('Histogram')\n",
    "plt.show()"
   ]
  },
  {
   "cell_type": "code",
   "execution_count": 121,
   "id": "ea9bd008",
   "metadata": {},
   "outputs": [
    {
     "data": {
      "image/png": "[encoded data removed]",
      "text/plain": [
       "<Figure size 640x480 with 1 Axes>"
      ]
     },
     "metadata": {},
     "output_type": "display_data"
    }
   ],
   "source": [
    "#grafik sinus\n",
    "import numpy as np\n",
    "import matplotlib.pyplot as plt\n",
    "from math import pi\n",
    "x = np.arange(0,3*pi,0.1)\n",
    "sin_x = np.sin(x)\n",
    "plt.plot(x, sin_x, color='green')\n",
    "plt.xlabel('x')\n",
    "plt.ylabel('y')\n",
    "plt.title('Grafik Sinus')\n",
    "plt.grid(True, which='both')\n",
    "plt.axhline(y=0, color='red')\n",
    "plt.show()"
   ]
  },
  {
   "cell_type": "code",
   "execution_count": null,
   "id": "81406824",
   "metadata": {},
   "outputs": [],
   "source": []
  }
 ],
 "metadata": {
  "kernelspec": {
   "display_name": "Python 3 (ipykernel)",
   "language": "python",
   "name": "python3"
  },
  "language_info": {
   "codemirror_mode": {
    "name": "ipython",
    "version": 3
   },
   "file_extension": ".py",
   "mimetype": "text/x-python",
   "name": "python",
   "nbconvert_exporter": "python",
   "pygments_lexer": "ipython3",
   "version": "3.10.9"
  }
 },
 "nbformat": 4,
 "nbformat_minor": 5
}
